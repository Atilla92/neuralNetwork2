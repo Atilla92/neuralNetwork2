{
 "cells": [
  {
   "cell_type": "code",
   "execution_count": 1,
   "metadata": {
    "collapsed": true
   },
   "outputs": [],
   "source": [
    "\n",
    "import numpy as np\n",
    "\n",
    "import cv2\n",
    "import matplotlib.pylab as plt\n",
    "%matplotlib inline"
   ]
  },
  {
   "cell_type": "markdown",
   "metadata": {},
   "source": [
    "## Input image"
   ]
  },
  {
   "cell_type": "code",
   "execution_count": 26,
   "metadata": {
    "collapsed": false
   },
   "outputs": [
    {
     "data": {
      "text/plain": [
       "<matplotlib.image.AxesImage at 0x7ffa0e3b9400>"
      ]
     },
     "execution_count": 26,
     "metadata": {},
     "output_type": "execute_result"
    },
    {
     "data": {
      "image/png": "[encoded data removed]",
      "text/plain": [
       "<matplotlib.figure.Figure at 0x7ffa0e54c7f0>"
      ]
     },
     "metadata": {},
     "output_type": "display_data"
    }
   ],
   "source": [
    "im = np.zeros([30, 30])\n",
    "\n",
    "# Add target\n",
    "im[10:25, 10:25] = 255.0\n",
    "\n",
    "# Add noise\n",
    "im += 50 * np.random.rand(im.shape[0], im.shape[1])\n",
    "\n",
    "plt.imshow(im, cmap=plt.cm.Greys, interpolation='nearest')"
   ]
  },
  {
   "cell_type": "markdown",
   "metadata": {},
   "source": [
    "## Convolution kernel\n",
    "opencv documentation:\n",
    "http://docs.opencv.org/2.4/modules/imgproc/doc/filtering.html?highlight=filter2d#cv2.filter2D\n"
   ]
  },
  {
   "cell_type": "code",
   "execution_count": 27,
   "metadata": {
    "collapsed": false
   },
   "outputs": [
    {
     "data": {
      "text/plain": [
       "array([[ 0.19528337,  0.65094455,  0.19528337],\n",
       "       [ 0.        ,  0.        ,  0.        ],\n",
       "       [-0.19528337, -0.65094455, -0.19528337]])"
      ]
     },
     "execution_count": 27,
     "metadata": {},
     "output_type": "execute_result"
    }
   ],
   "source": [
    "kernel1 = np.array([[ 3, 10,  3],\n",
    "                   [ 0,  0,  0],\n",
    "                   [-3, -10, -3]])\n",
    "kernel1 = kernel1 / np.linalg.norm(kernel1)\n",
    "kernel1"
   ]
  },
  {
   "cell_type": "code",
   "execution_count": 29,
   "metadata": {
    "collapsed": false
   },
   "outputs": [
    {
     "data": {
      "text/plain": [
       "array([[ 0.19528337,  0.        , -0.19528337],\n",
       "       [ 0.65094455,  0.        , -0.65094455],\n",
       "       [ 0.19528337,  0.        , -0.19528337]])"
      ]
     },
     "execution_count": 29,
     "metadata": {},
     "output_type": "execute_result"
    }
   ],
   "source": [
    "kernel2 = kernel1.T\n",
    "kernel2"
   ]
  },
  {
   "cell_type": "code",
   "execution_count": 30,
   "metadata": {
    "collapsed": false
   },
   "outputs": [],
   "source": [
    "im_edge1 = cv2.filter2D(im, cv2.CV_64F, kernel1)\n",
    "im_edge2 = cv2.filter2D(im, cv2.CV_64F, kernel2)"
   ]
  },
  {
   "cell_type": "code",
   "execution_count": 33,
   "metadata": {
    "collapsed": false
   },
   "outputs": [
    {
     "data": {
      "text/plain": [
       "<matplotlib.text.Text at 0x7ffa0e0b6940>"
      ]
     },
     "execution_count": 33,
     "metadata": {},
     "output_type": "execute_result"
    },
    {
     "data": {
      "image/png": "[encoded data removed]",
      "text/plain": [
       "<matplotlib.figure.Figure at 0x7ffa0e18e710>"
      ]
     },
     "metadata": {},
     "output_type": "display_data"
    }
   ],
   "source": [
    "plt.subplot(121)\n",
    "plt.imshow(im_edge1, cmap=plt.cm.Greys, interpolation='nearest')\n",
    "plt.title(\"Using kernel 1\")\n",
    "\n",
    "plt.subplot(122)\n",
    "plt.imshow(im_edge2, cmap=plt.cm.Greys, interpolation='nearest')\n",
    "plt.title(\"Using kernel 2\")"
   ]
  },
  {
   "cell_type": "code",
   "execution_count": 25,
   "metadata": {
    "collapsed": false
   },
   "outputs": [
    {
     "data": {
      "text/plain": [
       "-265.5853784008807"
      ]
     },
     "execution_count": 25,
     "metadata": {},
     "output_type": "execute_result"
    }
   ],
   "source": [
    "im_edge.min()"
   ]
  },
  {
   "cell_type": "code",
   "execution_count": null,
   "metadata": {
    "collapsed": true
   },
   "outputs": [],
   "source": []
  }
 ],
 "metadata": {
  "kernelspec": {
   "display_name": "Python 3",
   "language": "python",
   "name": "python3"
  },
  "language_info": {
   "codemirror_mode": {
    "name": "ipython",
    "version": 3
   },
   "file_extension": ".py",
   "mimetype": "text/x-python",
   "name": "python",
   "nbconvert_exporter": "python",
   "pygments_lexer": "ipython3",
   "version": "3.5.2"
  }
 },
 "nbformat": 4,
 "nbformat_minor": 2
}
