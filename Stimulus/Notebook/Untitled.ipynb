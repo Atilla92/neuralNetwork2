{
 "cells": [
  {
   "cell_type": "markdown",
   "metadata": {},
   "source": [
    "## Validation of Neuromimetic Model\n",
    "\n",
    "Assumptions and variables:\n",
    "\n",
    "1. Constant approach velocity. Max . velocity of drones assumed to be 11m/s.\n",
    "2. Approxiamtion of size of drone: 450x517 mm. \n",
    "3. The necessary field of view for the drone is 180 x 180\n",
    "4. The necessary detection time is assummed to be 2 s before impact in order for the drone to be able to perform a correct avoidance maneuver\n",
    "5. Model needs at least 5 pixels in order to detect a looming stimulus\n",
    "6. Camera resolution HD quality: 720p= 1,280 x 720 pixels , 1080p = 1,920 x 1,080-pixel \n",
    "7. Computational load of model in C++ for amount of neurons??\n",
    "8. \n",
    "\n",
    "\n",
    "\n",
    "In order to estimate the necessary resolution of the drone/neural network:\n",
    "\n",
    "1. Speed, distance: Assumes both drones will approach eachother with maximum speed and will predict the criteria for the model for worst case scenario, meaning the drones will have to detect the object with an approach speed of:\n",
    "\n",
    "$$11 m/s \\cdot 2 = 22 m/s$$. \n",
    "\n",
    "at a distance of : \n",
    "$$22m/s \\cdot 2 = 44 m $$\n",
    "\n",
    "2. Assume the smallest size in both directions. The drone must thus detect a symmetric square of size 450x450 mm. For later analysis of the model must include the w/h ratio, and check whether the model could predict the rectangular size as well. \n",
    "\n",
    "3. Angular resolution of drone in order to detect an object at specified distance:\n",
    "\n",
    "$$\\theta_{resolution} = 2 \\cdot tan^{-1}\\frac{x_{object}}{x_{detect}}$$\n",
    "\n",
    "theta is the angular resolution, x_object the size of the object, x_detect the distance at which the object must be detected for a specific approach speed. The reslution can then be estimated:\n",
    "\n",
    "$$Resolution = \\frac{x_{FOV}}{\\theta_{Resolution}} \\cdot pixels_{required}$$\n",
    "\n",
    "\n",
    "4. Define value of variables>\n",
    "    timeReq = 2 #s\n",
    "    vMax = 11 m/s\n",
    "    xFov = 180 degrees\n",
    "    yFov = 180  degrees\n",
    "    pixRes = 7  units\n",
    "    xSize = 0.450  m\n",
    "    ySize = 0.450\n"
   ]
  },
  {
   "cell_type": "code",
   "execution_count": 1,
   "metadata": {
    "collapsed": false
   },
   "outputs": [
    {
     "name": "stdout",
     "output_type": "stream",
     "text": [
      "1075.1603031 xResolution\n",
      "2419.04300313 yResolution\n"
     ]
    }
   ],
   "source": [
    "import numpy as np\n",
    "import cv2\n",
    "import sys, math\n",
    "import matplotlib.pyplot as plt\n",
    "from sys import path\n",
    "\n",
    "\n",
    "# Set requirements worst case scenario\n",
    "timeReq = 2 #s\n",
    "vMax = 11 #m/s\n",
    "xFov = 180 # degrees\n",
    "yFov = 180 # degrees\n",
    "pixRes = 7 # units\n",
    "xSize = 0.450 # m\n",
    "ySize = 0.200 # m \n",
    "\n",
    "\n",
    "#Estimate parameters\n",
    "vApproach = vMax *2 # m/s\n",
    "xApproach = vApproach * timeReq # m \n",
    "xAngularRes = np.arctan(xSize/xApproach) * 180/math.pi *2 # degrees\n",
    "yAngularRes = np.arctan(ySize/xApproach)* 180/math.pi *2# degrees\n",
    "xResReq = xFov/xAngularRes * pixRes\n",
    "yResReq = yFov/yAngularRes * pixRes\n",
    "print(xResReq, 'xResolution')\n",
    "print (yResReq, 'yResolution')"
   ]
  },
  {
   "cell_type": "raw",
   "metadata": {},
   "source": [
    "Design criteria from result:\n",
    "\n",
    "1. The estimated resolution necessary is 1076x1076 pixels. This is possible with a HD camera of 1080p resolution.\n",
    "2. Could look into heterogeneous resolution. Use combination of several cameras of lower resolution for exaple. \n",
    "3. Resolution of camera and network is 7 pixels per degree\n",
    "Replicate stimulus for worst case scenario. Estimate change in angle, and angle velocity of object moving at 22 m/s at 44 m from camera.\n",
    "\n",
    "\n"
   ]
  },
  {
   "cell_type": "markdown",
   "metadata": {},
   "source": [
    "## Test simulation Black Square White Background\n",
    "\n",
    "1. Min amount of pixels necessary to detect object : 5 Pixels (could try for 3)\n",
    "2. Refresh rate = 200 Hz, 60 Hz, 30 Hz\n",
    "3. 7 pix/degree resolution\n",
    "4. Model predicts at 5 pixels\n",
    "5. Threshold photoreceptors 0.3\n",
    "\n",
    "Figure 1: 200 Hz refresh rate, time between 5 pix and detection 1.17\n",
    "<img src=\"/files/figure_3_7 Pix_200 fps_2.png\">\n",
    "\n",
    "Figure 2: 60 Hz refresh rate, time between and 5 pix = 1.15\n",
    "\n",
    "<img src=\"/files/figure_4_7 Pix_60Hz_2.png\">\n",
    "\n",
    "Figure 2: 60 Hz refresh rate, time between and 5 pix = 1.23\n",
    "<img src =\"/files/figure_4_7 Pix_30Hz_2.png\">\n",
    "\n"
   ]
  },
  {
   "cell_type": "markdown",
   "metadata": {},
   "source": [
    "## Test simulation Conclusions:\n",
    "\n",
    "For now the system is resticted in its edge detection capacity, given the limited type of cells and image processing freedom of the network. The network is highly dependent on the edge detection system. If the edges are detected properly on a natural background the system will be able to detect a looming approaching object before 2 seconds of impact. \n",
    "\n",
    "Transfering the network to python/openCV/c++ will allow for a robust edge detection, as well as a simplified version of the network. Will require some rethinking of the compuations performed by the different layers. \n",
    "\n",
    "The network can be tuned to different sizes (also asymmetric).\n",
    "\n",
    "\n"
   ]
  },
  {
   "cell_type": "markdown",
   "metadata": {},
   "source": [
    "## Preliminary calculation Computational Load:\n",
    "\n",
    "1 million cells\n",
    "\n",
    "\n"
   ]
  },
  {
   "cell_type": "markdown",
   "metadata": {},
   "source": [
    "## To do for next week:\n",
    "\n",
    "0. Run video in niqr network, extract conclusion, does it work? \n",
    "\n",
    "\n",
    "1. Memory storage (Julien):\n",
    "    limit memory to go gpu, use open cv, matrix gpu shared memory\n",
    "    1 million cells, \n",
    "    sotre delta t, t, and mapping\n",
    "    compue vertical and horizontal emds\n",
    "    store in 2D location matrix\n",
    "\n",
    "    Conclusion: memorywise doable\n",
    "    \n",
    "2. How to deal with false positives?\n",
    "3. Write a test program (to estimate compuational load): First Test in python, 50x 50 pixels. Create an array for each layer;  convolution, apply kernel for edge detection (look into image processing kernels, filters)\n",
    "\n",
    "4. rebuild the model for big, check computational load (time) \n",
    "    30 Hz, 60Hz\n",
    "\n",
    "5. Code in c++ \n",
    "\n",
    "6. Check for a rectangular drone. 45- by 15 mm\n",
    "\n",
    "\n",
    "\n",
    "\n"
   ]
  }
 ],
 "metadata": {
  "kernelspec": {
   "display_name": "Python 3",
   "language": "python",
   "name": "python3"
  },
  "language_info": {
   "codemirror_mode": {
    "name": "ipython",
    "version": 3
   },
   "file_extension": ".py",
   "mimetype": "text/x-python",
   "name": "python",
   "nbconvert_exporter": "python",
   "pygments_lexer": "ipython3",
   "version": "3.5.2"
  }
 },
 "nbformat": 4,
 "nbformat_minor": 1
}
